{
 "cells": [
  {
   "cell_type": "markdown",
   "metadata": {},
   "source": [
    "# Skin Lesion Classifier\n",
    "This model is trained on close up images of the following diseases:\n",
    "\n",
    "- \"Bowen's disease\"                 | very early form of skin cancer \n",
    "- \"basal cell carcinoma\"            | basal-cell cancer or white skin cancer \n",
    "- \"benign keratosis-like lesions\"   | non-cancerous \n",
    "- \"dermatofibroma\"                  | non-cancerous \n",
    "- \"melanoma\",                       | black skin cancer \n",
    "- \"melanocytic nevi\",               | mole non-cancerous \n",
    "- \"vascular lesions\",               | skin condition \n",
    "\n",
    "You can upload a picture of any mole or other skin condition and see what the model predicts.\n",
    "\n",
    "For most accurate results:\n",
    "    The picture should be **as close as possible to the skin and still be sharp** aswell as capture the unusaul part of the skin **right in the middle**.\n",
    "\n",
    "**IMPORTANT**: The Prediction of this model **must be by no means be true**. If you are unsure about some parts of your skin you should **see a doctor** and **not** rely on this model."
   ]
  },
  {
   "cell_type": "code",
   "execution_count": 122,
   "metadata": {},
   "outputs": [],
   "source": [
    "# !pip install voila\n",
    "# !jupyter serverextension enable --sys-prefix voila\n",
    "\n",
    "from fastai.vision.all import load_learner, PILImage, CropPad\n",
    "from fastai.vision.widgets import Path, widgets, platform, VBox\n",
    "from IPython.display import display\n",
    "\n",
    "import pathlib\n",
    "plt = platform.system()\n",
    "if plt == 'Linux': pathlib.WindowsPath = pathlib.PosixPath\n",
    "elif plt == 'Windows': pathlib.PosixPath = pathlib.WindowsPath"
   ]
  },
  {
   "cell_type": "code",
   "execution_count": 123,
   "metadata": {},
   "outputs": [],
   "source": [
    "path = Path('./models/skin_disease_50_res18_9217.pkl')\n",
    "def get_label_from_dict():\n",
    "    pass\n",
    "learn_inf = load_learner(path, cpu=True)\n",
    "btn_upload = widgets.FileUpload()\n",
    "out_pl = widgets.Output()\n",
    "lbl_pred_1 = widgets.Label()\n",
    "lbl_pred_2 = widgets.Label()\n",
    "checkbox_crop = widgets.Checkbox()\n",
    "checkbox_crop.indent = False\n",
    "checkbox_crop.description  = \"Center-Crop your Image?\"\n",
    "checkbox_crop.value  = True"
   ]
  },
  {
   "cell_type": "code",
   "execution_count": 124,
   "metadata": {},
   "outputs": [],
   "source": [
    "def crop_middle_part(img):\n",
    "    width, height = img.size\n",
    "    mid_width = width//2\n",
    "    mid_height = height//2\n",
    "    offset_from_mid = 225\n",
    "    \n",
    "    if min(mid_width, mid_height) <  offset_from_mid:\n",
    "        print(\"Image to small to crop.\")\n",
    "        return img\n",
    "        \n",
    "    left = mid_width - offset_from_mid\n",
    "    top = mid_height - offset_from_mid\n",
    "    right = mid_width + offset_from_mid\n",
    "    bottom = mid_height + offset_from_mid\n",
    "    \n",
    "    return img.crop((left, top, right, bottom))\n",
    "\n",
    "def invert_softmax_prob(probs):\n",
    "    probs = probs.log()\n",
    "    probs = probs - probs.min() + 1\n",
    "    return probs.div(probs.sum()) \n",
    "\n",
    "def sorted_classes_logged_probs(probs, learn):\n",
    "    real_probs = invert_softmax_prob(probs)\n",
    "    classes_probs = [(x,prob.item()) for x, prob in zip(learn.dls.vocab.items, real_probs)]\n",
    "    classes_probs.sort(key= lambda x : x[1], reverse=True)\n",
    "    return classes_probs\n",
    "\n",
    "def on_click_btn_upload(change):\n",
    "    lbl_pred_1.value = \"Processing\"\n",
    "    lbl_pred_2.value = \"\"\n",
    "    img = PILImage.create(btn_upload.data[-1])\n",
    "    out_pl.clear_output()\n",
    "    if checkbox_crop.value == True:\n",
    "        img = crop_middle_part(img)\n",
    "        with out_pl: \n",
    "            display(img.to_thumb(128,128))\n",
    "        img = img.to_bytes_format()\n",
    "    else:\n",
    "        with out_pl: \n",
    "            display(img.to_thumb(128,128))\n",
    "\n",
    "    pred,pred_idx,probs = learn_inf.predict(img)\n",
    "    \n",
    "    sorted_classes = sorted_classes_logged_probs(probs, learn_inf)\n",
    "\n",
    "    lbl_pred_1.value = f'First Guess: {sorted_classes[0][0]} ! I am {sorted_classes[0][1]*100:.02f}% sure.'\n",
    "    lbl_pred_2.value = f'Second Guess: {sorted_classes[1][0]} ! I am {sorted_classes[1][1]*100:.02f}% sure.'\n",
    "    "
   ]
  },
  {
   "cell_type": "code",
   "execution_count": 125,
   "metadata": {},
   "outputs": [],
   "source": [
    "btn_upload.observe(on_click_btn_upload, names=['data'])"
   ]
  },
  {
   "cell_type": "code",
   "execution_count": 126,
   "metadata": {
    "scrolled": true
   },
   "outputs": [
    {
     "data": {
      "application/vnd.jupyter.widget-view+json": {
       "model_id": "37c045b6f35a450f9c93d1705db8b3d2",
       "version_major": 2,
       "version_minor": 0
      },
      "text/plain": [
       "VBox(children=(Label(value='Upload Skin Picture!'), FileUpload(value={}, description='Upload'), Checkbox(value…"
      ]
     },
     "metadata": {},
     "output_type": "display_data"
    }
   ],
   "source": [
    "display(VBox([widgets.Label('Upload Skin Picture!'), btn_upload, checkbox_crop,  out_pl, lbl_pred_1, lbl_pred_2]))"
   ]
  }
 ],
 "metadata": {
  "interpreter": {
   "hash": "0881f68f5b573120bdd90b789051c66c640e6e295b235471a65892ff0b89c241"
  },
  "kernelspec": {
   "display_name": "Python 3 (ipykernel)",
   "language": "python",
   "name": "python3"
  },
  "language_info": {
   "codemirror_mode": {
    "name": "ipython",
    "version": 3
   },
   "file_extension": ".py",
   "mimetype": "text/x-python",
   "name": "python",
   "nbconvert_exporter": "python",
   "pygments_lexer": "ipython3",
   "version": "3.8.11"
  }
 },
 "nbformat": 4,
 "nbformat_minor": 2
}
