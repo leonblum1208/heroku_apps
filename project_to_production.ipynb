{
 "cells": [
  {
   "cell_type": "code",
   "execution_count": 6,
   "source": [
    "# !pip install voila\r\n",
    "# !jupyter serverextension enable --sys-prefix voila"
   ],
   "outputs": [],
   "metadata": {}
  },
  {
   "cell_type": "markdown",
   "source": [
    "# The Amazing Bird Classifier\n",
    "Upload your bird picture and see what it is."
   ],
   "metadata": {}
  },
  {
   "cell_type": "code",
   "execution_count": 1,
   "source": [
    "from fastai.vision.all import *\r\n",
    "from fastai.vision.widgets import *\r\n",
    "\r\n",
    "learn_inf = load_learner('./models/bird_model.pkl')\r\n",
    "btn_upload = widgets.FileUpload()\r\n",
    "out_pl = widgets.Output()\r\n",
    "lbl_pred = widgets.Label()\r\n"
   ],
   "outputs": [],
   "metadata": {}
  },
  {
   "cell_type": "code",
   "execution_count": 2,
   "source": [
    "def on_click(change):\r\n",
    "    img = PILImage.create(btn_upload.data[-1])\r\n",
    "    out_pl.clear_output()\r\n",
    "    with out_pl: display(img.to_thumb(128,128))\r\n",
    "    pred,pred_idx,probs = learn_inf.predict(img)\r\n",
    "    lbl_pred.value = f'Prediction: {pred}; Probability: {probs[pred_idx]:.04f}'\r\n"
   ],
   "outputs": [],
   "metadata": {}
  },
  {
   "cell_type": "code",
   "execution_count": 3,
   "source": [
    "btn_upload.observe(on_click, names=['data'])"
   ],
   "outputs": [],
   "metadata": {}
  },
  {
   "cell_type": "code",
   "execution_count": 4,
   "source": [
    "display(VBox(\r\n",
    "    [widgets.Label('Select your bird!'), \r\n",
    "    btn_upload, out_pl, lbl_pred]\r\n",
    "    ))\r\n"
   ],
   "outputs": [
    {
     "output_type": "display_data",
     "data": {
      "text/plain": [
       "VBox(children=(Label(value='Select your bird!'), FileUpload(value={}, description='Upload'), Output(), Label(v…"
      ],
      "application/vnd.jupyter.widget-view+json": {
       "version_major": 2,
       "version_minor": 0,
       "model_id": "ac9f2963b135473db703f1f898e0d1f6"
      }
     },
     "metadata": {}
    }
   ],
   "metadata": {}
  }
 ],
 "metadata": {
  "interpreter": {
   "hash": "0881f68f5b573120bdd90b789051c66c640e6e295b235471a65892ff0b89c241"
  },
  "kernelspec": {
   "name": "python3",
   "display_name": "Python 3.9.1 64-bit"
  },
  "language_info": {
   "codemirror_mode": {
    "name": "ipython",
    "version": 3
   },
   "file_extension": ".py",
   "mimetype": "text/x-python",
   "name": "python",
   "nbconvert_exporter": "python",
   "pygments_lexer": "ipython3",
   "version": "3.9.1"
  }
 },
 "nbformat": 4,
 "nbformat_minor": 2
}