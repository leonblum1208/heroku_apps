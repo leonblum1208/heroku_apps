{
 "cells": [
  {
   "cell_type": "markdown",
   "source": [
    "# The Amazing Bird Classifier\n",
    "Upload your bird picture and see what it is."
   ],
   "metadata": {}
  },
  {
   "cell_type": "code",
   "execution_count": 36,
   "source": [
    "# !pip install voila\r\n",
    "# !jupyter serverextension enable --sys-prefix voila\r\n",
    "import fastbook\r\n",
    "fastbook.setup_book()\r\n"
   ],
   "outputs": [],
   "metadata": {}
  },
  {
   "cell_type": "code",
   "execution_count": 37,
   "source": [
    "from fastbook import *\r\n",
    "from fastai.vision.widgets import *\r\n"
   ],
   "outputs": [],
   "metadata": {}
  },
  {
   "cell_type": "code",
   "execution_count": 51,
   "source": [
    "path = Path()\r\n",
    "learn_inf = load_learner(path/'models/bird_model.pkl', cpu=True)\r\n",
    "learn_inf"
   ],
   "outputs": [
    {
     "output_type": "execute_result",
     "data": {
      "text/plain": [
       "<fastai.learner.Learner at 0x1df1c325430>"
      ]
     },
     "metadata": {},
     "execution_count": 51
    }
   ],
   "metadata": {}
  },
  {
   "cell_type": "code",
   "execution_count": 39,
   "source": [
    "btn_upload = widgets.FileUpload()"
   ],
   "outputs": [],
   "metadata": {}
  },
  {
   "cell_type": "code",
   "execution_count": 40,
   "source": [
    "out_pl = widgets.Output()"
   ],
   "outputs": [],
   "metadata": {}
  },
  {
   "cell_type": "code",
   "execution_count": 41,
   "source": [
    "lbl_pred = widgets.Label()"
   ],
   "outputs": [],
   "metadata": {}
  },
  {
   "cell_type": "code",
   "execution_count": 42,
   "source": [
    "def on_click(change):\r\n",
    "    img = PILImage.create(btn_upload.data[-1])\r\n",
    "    out_pl.clear_output()\r\n",
    "    with out_pl: display(img.to_thumb(128,128))\r\n",
    "    pred,pred_idx,probs = learn_inf.predict(img)\r\n",
    "    lbl_pred.value = f'Prediction: {pred}; Probability: {probs[pred_idx]:.04f}'"
   ],
   "outputs": [],
   "metadata": {}
  },
  {
   "cell_type": "code",
   "execution_count": 43,
   "source": [
    "btn_upload.observe(on_click, names=['data'])"
   ],
   "outputs": [],
   "metadata": {}
  },
  {
   "cell_type": "code",
   "execution_count": 44,
   "source": [
    "VBox(\r\n",
    "    [widgets.Label('Select your bird!'), \r\n",
    "    btn_upload, out_pl, lbl_pred]\r\n",
    "    )\r\n"
   ],
   "outputs": [
    {
     "output_type": "display_data",
     "data": {
      "text/plain": [
       "VBox(children=(Label(value='Select your bird!'), FileUpload(value={}, description='Upload'), Output(), Label(v…"
      ],
      "application/vnd.jupyter.widget-view+json": {
       "version_major": 2,
       "version_minor": 0,
       "model_id": "07cc116cc18e4749a0535a8ac178763f"
      }
     },
     "metadata": {}
    }
   ],
   "metadata": {}
  }
 ],
 "metadata": {
  "interpreter": {
   "hash": "0881f68f5b573120bdd90b789051c66c640e6e295b235471a65892ff0b89c241"
  },
  "kernelspec": {
   "name": "python3",
   "display_name": "Python 3.9.1 64-bit"
  },
  "language_info": {
   "codemirror_mode": {
    "name": "ipython",
    "version": 3
   },
   "file_extension": ".py",
   "mimetype": "text/x-python",
   "name": "python",
   "nbconvert_exporter": "python",
   "pygments_lexer": "ipython3",
   "version": "3.9.1"
  }
 },
 "nbformat": 4,
 "nbformat_minor": 2
}