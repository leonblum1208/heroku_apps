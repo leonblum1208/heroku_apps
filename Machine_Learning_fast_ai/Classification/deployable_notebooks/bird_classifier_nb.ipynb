{
 "cells": [
  {
   "cell_type": "markdown",
   "source": [
    "# The Amazing Bird Classifier\r\n",
    "Upload your common european bird picture and see what it is."
   ],
   "metadata": {}
  },
  {
   "cell_type": "code",
   "execution_count": 1,
   "source": [
    "# !pip install voila\r\n",
    "# !jupyter serverextension enable --sys-prefix voila\r\n",
    "\r\n",
    "from fastai.vision.all import load_learner, PILImage\r\n",
    "from fastai.vision.widgets import Path, widgets, platform, VBox\r\n",
    "from IPython.display import display\r\n",
    "\r\n",
    "import pathlib\r\n",
    "plt = platform.system()\r\n",
    "if plt == 'Linux': pathlib.WindowsPath = pathlib.PosixPath\r\n",
    "elif plt == 'Windows': pathlib.PosixPath = pathlib.WindowsPath"
   ],
   "outputs": [],
   "metadata": {}
  },
  {
   "cell_type": "code",
   "execution_count": 2,
   "source": [
    "path = Path('./models/bird_model.pkl')\r\n",
    "learn_inf = load_learner(path, cpu=True)\r\n",
    "btn_upload = widgets.FileUpload()\r\n",
    "out_pl = widgets.Output()\r\n",
    "lbl_pred = widgets.Label()"
   ],
   "outputs": [],
   "metadata": {}
  },
  {
   "cell_type": "code",
   "execution_count": 4,
   "source": [
    "def on_click(change):\r\n",
    "    img = PILImage.create(btn_upload.data[-1])\r\n",
    "    out_pl.clear_output()\r\n",
    "    with out_pl: display(img.to_thumb(128,128))\r\n",
    "    pred,pred_idx,probs = learn_inf.predict(img)\r\n",
    "    pred_string = \" \".join(pred.split(\"_\"))\r\n",
    "    lbl_pred.value = f'Is it a {pred_string.upper()}? I am {probs[pred_idx]*100:.02f}% sure.'\r\n",
    "    "
   ],
   "outputs": [],
   "metadata": {}
  },
  {
   "cell_type": "code",
   "execution_count": 5,
   "source": [
    "btn_upload.observe(on_click, names=['data'])"
   ],
   "outputs": [],
   "metadata": {}
  },
  {
   "cell_type": "code",
   "execution_count": 6,
   "source": [
    "display(VBox([widgets.Label('Select your bird!'), btn_upload, out_pl, lbl_pred]))"
   ],
   "outputs": [
    {
     "output_type": "display_data",
     "data": {
      "text/plain": [
       "VBox(children=(Label(value='Select your bird!'), FileUpload(value={}, description='Upload'), Output(), Label(v…"
      ],
      "application/vnd.jupyter.widget-view+json": {
       "model_id": "e69ee515b5cd45dea6f3e5e85d137fe9",
       "version_major": 2,
       "version_minor": 0
      }
     },
     "metadata": {}
    },
    {
     "output_type": "display_data",
     "data": {
      "text/plain": [
       "<IPython.core.display.HTML object>"
      ],
      "text/html": []
     },
     "metadata": {}
    },
    {
     "output_type": "stream",
     "name": "stderr",
     "text": [
      "C:\\Users\\Leon\\anaconda3\\envs\\Data_Science\\lib\\site-packages\\torch\\nn\\functional.py:718: UserWarning: Named tensors and all their associated APIs are an experimental feature and subject to change. Please do not use them for anything important until they are released as stable. (Triggered internally at  ..\\c10/core/TensorImpl.h:1156.)\n",
      "  return torch.max_pool2d(input, kernel_size, stride, padding, dilation, ceil_mode)\n"
     ]
    }
   ],
   "metadata": {}
  },
  {
   "cell_type": "code",
   "execution_count": null,
   "source": [],
   "outputs": [],
   "metadata": {}
  }
 ],
 "metadata": {
  "interpreter": {
   "hash": "0881f68f5b573120bdd90b789051c66c640e6e295b235471a65892ff0b89c241"
  },
  "kernelspec": {
   "display_name": "Python 3",
   "language": "python",
   "name": "python3"
  },
  "language_info": {
   "codemirror_mode": {
    "name": "ipython",
    "version": 3
   },
   "file_extension": ".py",
   "mimetype": "text/x-python",
   "name": "python",
   "nbconvert_exporter": "python",
   "pygments_lexer": "ipython3",
   "version": "3.8.11"
  }
 },
 "nbformat": 4,
 "nbformat_minor": 2
}