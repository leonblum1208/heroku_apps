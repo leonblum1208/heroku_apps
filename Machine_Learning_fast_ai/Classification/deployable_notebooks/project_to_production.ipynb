{
 "cells": [
  {
   "cell_type": "markdown",
   "source": [
    "# The Amazing Bird Classifier\r\n",
    "Upload your bird picture and see what it is."
   ],
   "metadata": {}
  },
  {
   "cell_type": "code",
   "execution_count": 1,
   "source": [
    "# !pip install voila\r\n",
    "# !jupyter serverextension enable --sys-prefix voila\r\n",
    "\r\n",
    "from fastai.vision.all import *\r\n",
    "from fastai.vision.widgets import *\r\n",
    "from IPython.display import display\r\n",
    "\r\n",
    "import ipywidgets\r\n",
    "import pathlib\r\n",
    "plt = platform.system()\r\n",
    "if plt == 'Linux': pathlib.WindowsPath = pathlib.PosixPath\r\n",
    "elif plt == 'Windows': pathlib.PosixPath = pathlib.WindowsPath"
   ],
   "outputs": [],
   "metadata": {}
  },
  {
   "cell_type": "code",
   "execution_count": 2,
   "source": [
    "path = Path()\r\n",
    "learn_inf = load_learner(path/'bird_model.pkl', cpu=True)"
   ],
   "outputs": [],
   "metadata": {}
  },
  {
   "cell_type": "code",
   "execution_count": 3,
   "source": [
    "btn_upload = widgets.FileUpload()\r\n",
    "out_pl = widgets.Output()\r\n",
    "lbl_pred = widgets.Label()"
   ],
   "outputs": [],
   "metadata": {}
  },
  {
   "cell_type": "code",
   "execution_count": 7,
   "source": [
    "def on_click(change):\r\n",
    "    img = PILImage.create(btn_upload.data[-1])\r\n",
    "    out_pl.clear_output()\r\n",
    "    with out_pl: display(img.to_thumb(128,128))\r\n",
    "    pred,pred_idx,probs = learn_inf.predict(img)\r\n",
    "    pred_string = \" \".join(pred.split(\"_\"))\r\n",
    "    lbl_pred.value = f'Is it a {pred_string.upper()}? I am {probs[pred_idx]*100:.02f}% sure.'\r\n",
    "    "
   ],
   "outputs": [],
   "metadata": {}
  },
  {
   "cell_type": "code",
   "execution_count": 8,
   "source": [
    "btn_upload.observe(on_click, names=['data'])"
   ],
   "outputs": [],
   "metadata": {}
  },
  {
   "cell_type": "code",
   "execution_count": 9,
   "source": [
    "display(VBox([widgets.Label('Select your bird!'), btn_upload, out_pl, lbl_pred]))"
   ],
   "outputs": [
    {
     "output_type": "display_data",
     "data": {
      "text/plain": [
       "VBox(children=(Label(value='Select your bird!'), FileUpload(value={'00000026.jpg': {'metadata': {'name': '0000…"
      ],
      "application/vnd.jupyter.widget-view+json": {
       "model_id": "2de047a4a04c4a62bc4b39e5cf0c248a",
       "version_major": 2,
       "version_minor": 0
      }
     },
     "metadata": {}
    },
    {
     "output_type": "display_data",
     "data": {
      "text/plain": [
       "<IPython.core.display.HTML object>"
      ],
      "text/html": []
     },
     "metadata": {}
    },
    {
     "output_type": "display_data",
     "data": {
      "text/plain": [
       "<IPython.core.display.HTML object>"
      ],
      "text/html": []
     },
     "metadata": {}
    }
   ],
   "metadata": {}
  },
  {
   "cell_type": "code",
   "execution_count": null,
   "source": [],
   "outputs": [],
   "metadata": {}
  }
 ],
 "metadata": {
  "interpreter": {
   "hash": "0881f68f5b573120bdd90b789051c66c640e6e295b235471a65892ff0b89c241"
  },
  "kernelspec": {
   "name": "python3",
   "display_name": "Python 3.9.1 64-bit"
  },
  "language_info": {
   "codemirror_mode": {
    "name": "ipython",
    "version": 3
   },
   "file_extension": ".py",
   "mimetype": "text/x-python",
   "name": "python",
   "nbconvert_exporter": "python",
   "pygments_lexer": "ipython3",
   "version": "3.9.1"
  }
 },
 "nbformat": 4,
 "nbformat_minor": 2
}